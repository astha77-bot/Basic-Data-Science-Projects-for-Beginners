{
  "nbformat": 4,
  "nbformat_minor": 0,
  "metadata": {
    "colab": {
      "name": "Untitled1.ipynb",
      "provenance": []
    },
    "kernelspec": {
      "name": "python3",
      "display_name": "Python 3"
    }
  },
  "cells": [
    {
      "cell_type": "code",
      "metadata": {
        "colab": {
          "base_uri": "https://localhost:8080/"
        },
        "id": "cFBxaVT6bkCc",
        "outputId": "d3d2319f-33d0-4cc8-834f-a44012b6a0f3"
      },
      "source": [
        "from sklearn import datasets\r\n",
        "from sklearn.model_selection import train_test_split\r\n",
        "from sklearn.metrics import accuracy_score\r\n",
        "from sklearn.neighbors import KNeighborsClassifier\r\n",
        "iris=datasets.load_iris()\r\n",
        "x=iris.data\r\n",
        "y=iris.target\r\n",
        "x_train,x_test,y_train,y_test=train_test_split(x,y,test_size=.5)\r\n",
        "model = KNeighborsClassifier()\r\n",
        "model.fit(x_train, y_train)\r\n",
        "yhat = model.predict(x_test)\r\n",
        "accuracy = accuracy_score(y_test, yhat)\r\n",
        "print(accuracy)"
      ],
      "execution_count": null,
      "outputs": [
        {
          "output_type": "stream",
          "text": [
            "0.9733333333333334\n"
          ],
          "name": "stdout"
        }
      ]
    }
  ]
}